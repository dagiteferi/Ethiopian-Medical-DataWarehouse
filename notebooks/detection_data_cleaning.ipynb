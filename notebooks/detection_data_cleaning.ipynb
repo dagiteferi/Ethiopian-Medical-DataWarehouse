{
 "cells": [
  {
   "cell_type": "code",
   "execution_count": 1,
   "metadata": {},
   "outputs": [],
   "source": [
    "import os,sys\n",
    "import pandas as pd\n",
    "sys.path.append(os.path.abspath('../scripts'))"
   ]
  },
  {
   "cell_type": "code",
   "execution_count": 2,
   "metadata": {},
   "outputs": [],
   "source": [
    "from detection_data_cleaning import DetectionDataCleaning\n",
    "#from database import get_db_connection, create_table, insert_data"
   ]
  },
  {
   "cell_type": "code",
   "execution_count": 3,
   "metadata": {},
   "outputs": [
    {
     "name": "stderr",
     "output_type": "stream",
     "text": [
      "2025-02-01 16:51:44,203 - INFO - Loading the data\n"
     ]
    }
   ],
   "source": [
    "# Create an instance of the DetectionDataCleaning class\n",
    "Detection_data_cleaning = DetectionDataCleaning()\n",
    "\n",
    "# Load data into individual dataframes\n",
    "data = Detection_data_cleaning.load_data('../data/detection_results.csv')"
   ]
  },
  {
   "cell_type": "code",
   "execution_count": 4,
   "metadata": {},
   "outputs": [
    {
     "data": {
      "text/html": [
       "<div>\n",
       "<style scoped>\n",
       "    .dataframe tbody tr th:only-of-type {\n",
       "        vertical-align: middle;\n",
       "    }\n",
       "\n",
       "    .dataframe tbody tr th {\n",
       "        vertical-align: top;\n",
       "    }\n",
       "\n",
       "    .dataframe thead th {\n",
       "        text-align: right;\n",
       "    }\n",
       "</style>\n",
       "<table border=\"1\" class=\"dataframe\">\n",
       "  <thead>\n",
       "    <tr style=\"text-align: right;\">\n",
       "      <th></th>\n",
       "      <th>file_name</th>\n",
       "      <th>class_id</th>\n",
       "      <th>x_center</th>\n",
       "      <th>y_center</th>\n",
       "      <th>width</th>\n",
       "      <th>height</th>\n",
       "      <th>confidence</th>\n",
       "    </tr>\n",
       "  </thead>\n",
       "  <tbody>\n",
       "    <tr>\n",
       "      <th>0</th>\n",
       "      <td>@lobelia4cosmetics_14701.jpg</td>\n",
       "      <td>73</td>\n",
       "      <td>280.785828</td>\n",
       "      <td>331.727234</td>\n",
       "      <td>269.708618</td>\n",
       "      <td>422.560760</td>\n",
       "      <td>0.101583</td>\n",
       "    </tr>\n",
       "    <tr>\n",
       "      <th>1</th>\n",
       "      <td>@lobelia4cosmetics_14698.jpg</td>\n",
       "      <td>73</td>\n",
       "      <td>301.913574</td>\n",
       "      <td>335.992584</td>\n",
       "      <td>367.117462</td>\n",
       "      <td>527.908691</td>\n",
       "      <td>0.255125</td>\n",
       "    </tr>\n",
       "    <tr>\n",
       "      <th>2</th>\n",
       "      <td>@lobelia4cosmetics_14699.jpg</td>\n",
       "      <td>0</td>\n",
       "      <td>415.509308</td>\n",
       "      <td>418.621765</td>\n",
       "      <td>202.540955</td>\n",
       "      <td>323.587280</td>\n",
       "      <td>0.549841</td>\n",
       "    </tr>\n",
       "    <tr>\n",
       "      <th>3</th>\n",
       "      <td>@lobelia4cosmetics_14695.jpg</td>\n",
       "      <td>12</td>\n",
       "      <td>984.355652</td>\n",
       "      <td>982.372925</td>\n",
       "      <td>974.671509</td>\n",
       "      <td>1921.190674</td>\n",
       "      <td>0.145479</td>\n",
       "    </tr>\n",
       "    <tr>\n",
       "      <th>4</th>\n",
       "      <td>@lobelia4cosmetics_14693.jpg</td>\n",
       "      <td>39</td>\n",
       "      <td>501.871613</td>\n",
       "      <td>513.558228</td>\n",
       "      <td>394.700378</td>\n",
       "      <td>759.743164</td>\n",
       "      <td>0.472639</td>\n",
       "    </tr>\n",
       "  </tbody>\n",
       "</table>\n",
       "</div>"
      ],
      "text/plain": [
       "                      file_name  class_id    x_center    y_center       width  \\\n",
       "0  @lobelia4cosmetics_14701.jpg        73  280.785828  331.727234  269.708618   \n",
       "1  @lobelia4cosmetics_14698.jpg        73  301.913574  335.992584  367.117462   \n",
       "2  @lobelia4cosmetics_14699.jpg         0  415.509308  418.621765  202.540955   \n",
       "3  @lobelia4cosmetics_14695.jpg        12  984.355652  982.372925  974.671509   \n",
       "4  @lobelia4cosmetics_14693.jpg        39  501.871613  513.558228  394.700378   \n",
       "\n",
       "        height  confidence  \n",
       "0   422.560760    0.101583  \n",
       "1   527.908691    0.255125  \n",
       "2   323.587280    0.549841  \n",
       "3  1921.190674    0.145479  \n",
       "4   759.743164    0.472639  "
      ]
     },
     "execution_count": 4,
     "metadata": {},
     "output_type": "execute_result"
    }
   ],
   "source": [
    "data.head()"
   ]
  },
  {
   "cell_type": "code",
   "execution_count": 5,
   "metadata": {},
   "outputs": [
    {
     "name": "stderr",
     "output_type": "stream",
     "text": [
      "2025-02-01 16:51:48,706 - INFO - Checking for duplicates...\n"
     ]
    },
    {
     "name": "stderr",
     "output_type": "stream",
     "text": [
      "2025-02-01 16:51:49,347 - INFO - No duplicates found\n"
     ]
    }
   ],
   "source": [
    "# Check for duplicates\n",
    "data = Detection_data_cleaning.check_duplicates(data)"
   ]
  },
  {
   "cell_type": "code",
   "execution_count": 6,
   "metadata": {},
   "outputs": [
    {
     "name": "stderr",
     "output_type": "stream",
     "text": [
      "2025-02-01 16:51:49,364 - INFO - Checking for missing values...\n",
      "2025-02-01 16:51:49,383 - INFO - No missing values found\n"
     ]
    },
    {
     "name": "stdout",
     "output_type": "stream",
     "text": [
      "0\n"
     ]
    }
   ],
   "source": [
    "# Check for missing values\n",
    "missing_values = Detection_data_cleaning.check_missing_values(data)\n",
    "print(missing_values)\n"
   ]
  }
 ],
 "metadata": {
  "kernelspec": {
   "display_name": "week-7",
   "language": "python",
   "name": "python3"
  },
  "language_info": {
   "codemirror_mode": {
    "name": "ipython",
    "version": 3
   },
   "file_extension": ".py",
   "mimetype": "text/x-python",
   "name": "python",
   "nbconvert_exporter": "python",
   "pygments_lexer": "ipython3",
   "version": "3.12.5"
  }
 },
 "nbformat": 4,
 "nbformat_minor": 2
}
