{
 "cells": [
  {
   "cell_type": "code",
   "execution_count": 7,
   "metadata": {},
   "outputs": [],
   "source": [
    "import os,sys\n",
    "sys.path.append(os.path.abspath('../scripts'))"
   ]
  },
  {
   "cell_type": "code",
   "execution_count": 8,
   "metadata": {},
   "outputs": [],
   "source": [
    "from DataCleaningTransformation import DataCleaning"
   ]
  },
  {
   "cell_type": "code",
   "execution_count": 3,
   "metadata": {},
   "outputs": [],
   "source": [
    "# Setup logging\n",
    "import logging\n",
    "LOG_FILE = os.path.join(os.path.dirname(os.path.abspath('__file__')), \"data_cleaning.log\")\n",
    "logging.basicConfig(\n",
    "    filename=LOG_FILE,\n",
    "    level=logging.INFO,\n",
    "    format=\"%(asctime)s - %(levelname)s - %(message)s\"\n",
    ")"
   ]
  },
  {
   "cell_type": "markdown",
   "metadata": {},
   "source": [
    "## List of CSV files to be loaded"
   ]
  },
  {
   "cell_type": "code",
   "execution_count": 9,
   "metadata": {},
   "outputs": [
    {
     "ename": "TypeError",
     "evalue": "DataCleaning.__init__() missing 1 required positional argument: 'csv_files'",
     "output_type": "error",
     "traceback": [
      "\u001b[1;31m---------------------------------------------------------------------------\u001b[0m",
      "\u001b[1;31mTypeError\u001b[0m                                 Traceback (most recent call last)",
      "Cell \u001b[1;32mIn[9], line 2\u001b[0m\n\u001b[0;32m      1\u001b[0m \u001b[38;5;66;03m# Create an instance of the DataCleaning class\u001b[39;00m\n\u001b[1;32m----> 2\u001b[0m data_cleaning \u001b[38;5;241m=\u001b[39m \u001b[43mDataCleaning\u001b[49m\u001b[43m(\u001b[49m\u001b[43m)\u001b[49m\n\u001b[0;32m      3\u001b[0m data_cleaning\u001b[38;5;241m.\u001b[39mload_data( \u001b[38;5;124m'\u001b[39m\u001b[38;5;124m../data/CheMed123_data.csv\u001b[39m\u001b[38;5;124m'\u001b[39m)\n\u001b[0;32m      4\u001b[0m data_cleaning\u001b[38;5;241m.\u001b[39mload_data( \u001b[38;5;124m'\u001b[39m\u001b[38;5;124m../data/EAHCI_data.csv\u001b[39m\u001b[38;5;124m'\u001b[39m)\n",
      "\u001b[1;31mTypeError\u001b[0m: DataCleaning.__init__() missing 1 required positional argument: 'csv_files'"
     ]
    }
   ],
   "source": [
    "\n",
    "# Create an instance of the DataCleaning class\n",
    "data_cleaning = DataCleaning()\n",
    "data_cleaning.load_data( '../data/CheMed123_data.csv')\n",
    "data_cleaning.load_data( '../data/EAHCI_data.csv')\n",
    "data_cleaning.load_data( '../data/lobelia4cosmetics_data.csv')\n",
    "data_cleaning.load_data( '../data/yetenaweg_data.csv')"
   ]
  },
  {
   "cell_type": "markdown",
   "metadata": {},
   "source": [
    "## Load the data"
   ]
  },
  {
   "cell_type": "code",
   "execution_count": 5,
   "metadata": {},
   "outputs": [
    {
     "name": "stderr",
     "output_type": "stream",
     "text": [
      "2025-01-30 10:11:59,132 - INFO - Loading CSV files...\n",
      "2025-01-30 10:12:00,639 - INFO - Loaded ../data/CheMed123_data.csv\n",
      "2025-01-30 10:12:00,757 - INFO - Loaded ../data/EAHCI_data.csv\n",
      "2025-01-30 10:12:01,660 - INFO - Loaded ../data/lobelia4cosmetics_data.csv\n",
      "2025-01-30 10:12:01,700 - INFO - Loaded ../data/yetenaweg_data.csv\n"
     ]
    }
   ],
   "source": [
    "\n",
    "data_cleaning.load_data()"
   ]
  },
  {
   "cell_type": "markdown",
   "metadata": {},
   "source": [
    "## Merge the dataframes"
   ]
  },
  {
   "cell_type": "code",
   "execution_count": null,
   "metadata": {},
   "outputs": [
    {
     "ename": "",
     "evalue": "",
     "output_type": "error",
     "traceback": [
      "\u001b[1;31mFailed to start the Kernel. \n",
      "\u001b[1;31mUnable to start Kernel 'week-7 (Python 3.12.5)' due to a timeout waiting for the ports to get used. \n",
      "\u001b[1;31mView Jupyter <a href='command:jupyter.viewOutput'>log</a> for further details."
     ]
    }
   ],
   "source": [
    "dataframes = [DoctorsET_df,CheMed123_df,EAHCI_df,lobelia4cosmetics_df,yetenaweg_df]\n",
    "df = cdata_cleaning.merge_the_data_frames(dataframes)"
   ]
  },
  {
   "cell_type": "code",
   "execution_count": 13,
   "metadata": {},
   "outputs": [
    {
     "ename": "AttributeError",
     "evalue": "'NoneType' object has no attribute 'head'",
     "output_type": "error",
     "traceback": [
      "\u001b[1;31m---------------------------------------------------------------------------\u001b[0m",
      "\u001b[1;31mAttributeError\u001b[0m                            Traceback (most recent call last)",
      "Cell \u001b[1;32mIn[13], line 1\u001b[0m\n\u001b[1;32m----> 1\u001b[0m \u001b[43mdata\u001b[49m\u001b[38;5;241;43m.\u001b[39;49m\u001b[43mhead\u001b[49m()\n",
      "\u001b[1;31mAttributeError\u001b[0m: 'NoneType' object has no attribute 'head'"
     ]
    }
   ],
   "source": [
    "data.head()"
   ]
  }
 ],
 "metadata": {
  "kernelspec": {
   "display_name": "week-7",
   "language": "python",
   "name": "python3"
  },
  "language_info": {
   "codemirror_mode": {
    "name": "ipython",
    "version": 3
   },
   "file_extension": ".py",
   "mimetype": "text/x-python",
   "name": "python",
   "nbconvert_exporter": "python",
   "pygments_lexer": "ipython3",
   "version": "3.12.5"
  }
 },
 "nbformat": 4,
 "nbformat_minor": 2
}
