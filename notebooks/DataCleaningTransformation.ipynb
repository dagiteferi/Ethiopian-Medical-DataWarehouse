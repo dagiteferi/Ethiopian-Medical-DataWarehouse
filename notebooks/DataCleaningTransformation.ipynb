{
 "cells": [
  {
   "cell_type": "code",
   "execution_count": 1,
   "metadata": {},
   "outputs": [],
   "source": [
    "import os,sys\n",
    "sys.path.append(os.path.abspath('../scripts'))"
   ]
  },
  {
   "cell_type": "code",
   "execution_count": 2,
   "metadata": {},
   "outputs": [],
   "source": [
    "from DataCleaningTransformation import DataCleaning"
   ]
  },
  {
   "cell_type": "code",
   "execution_count": 3,
   "metadata": {},
   "outputs": [],
   "source": [
    "# Setup logging\n",
    "import logging\n",
    "LOG_FILE = os.path.join(os.path.dirname(os.path.abspath('__file__')), \"data_cleaning.log\")\n",
    "logging.basicConfig(\n",
    "    filename=LOG_FILE,\n",
    "    level=logging.INFO,\n",
    "    format=\"%(asctime)s - %(levelname)s - %(message)s\"\n",
    ")"
   ]
  },
  {
   "cell_type": "markdown",
   "metadata": {},
   "source": [
    "## Load the data"
   ]
  },
  {
   "cell_type": "code",
   "execution_count": 4,
   "metadata": {},
   "outputs": [
    {
     "name": "stderr",
     "output_type": "stream",
     "text": [
      "2025-01-30 18:54:25,190 - INFO - Loading the data\n",
      "2025-01-30 18:54:25,733 - INFO - Loading the data\n",
      "2025-01-30 18:54:25,789 - INFO - Loading the data\n",
      "2025-01-30 18:54:26,182 - INFO - Loading the data\n"
     ]
    }
   ],
   "source": [
    "# Create an instance of the DataCleaning class\n",
    "data_cleaning = DataCleaning()\n",
    "\n",
    "# Load data into individual dataframes\n",
    "CheMed123_data = data_cleaning.load_data('../data/CheMed123_data.csv')\n",
    "EAHCI_data = data_cleaning.load_data('../data/EAHCI_data.csv')\n",
    "lobelia4cosmetics_data = data_cleaning.load_data('../data/lobelia4cosmetics_data.csv')\n",
    "yetenaweg_data = data_cleaning.load_data('../data/yetenaweg_data.csv')\n"
   ]
  },
  {
   "cell_type": "code",
   "execution_count": 5,
   "metadata": {},
   "outputs": [
    {
     "data": {
      "text/plain": [
       "(87, 6)"
      ]
     },
     "execution_count": 5,
     "metadata": {},
     "output_type": "execute_result"
    }
   ],
   "source": [
    "CheMed123_data.shape"
   ]
  },
  {
   "cell_type": "code",
   "execution_count": 6,
   "metadata": {},
   "outputs": [
    {
     "data": {
      "text/html": [
       "<div>\n",
       "<style scoped>\n",
       "    .dataframe tbody tr th:only-of-type {\n",
       "        vertical-align: middle;\n",
       "    }\n",
       "\n",
       "    .dataframe tbody tr th {\n",
       "        vertical-align: top;\n",
       "    }\n",
       "\n",
       "    .dataframe thead th {\n",
       "        text-align: right;\n",
       "    }\n",
       "</style>\n",
       "<table border=\"1\" class=\"dataframe\">\n",
       "  <thead>\n",
       "    <tr style=\"text-align: right;\">\n",
       "      <th></th>\n",
       "      <th>Channel Title</th>\n",
       "      <th>Channel Username</th>\n",
       "      <th>ID</th>\n",
       "      <th>Message</th>\n",
       "      <th>Date</th>\n",
       "      <th>Media Path</th>\n",
       "    </tr>\n",
       "  </thead>\n",
       "  <tbody>\n",
       "    <tr>\n",
       "      <th>0</th>\n",
       "      <td>የጤና ወግ - የጤና መረጃ</td>\n",
       "      <td>@yetenaweg</td>\n",
       "      <td>1247</td>\n",
       "      <td>NaN</td>\n",
       "      <td>2025-01-22 09:50:47+00:00</td>\n",
       "      <td>c:\\Users\\Dagi\\Documents\\KAIM\\week-7\\Ethiopian-...</td>\n",
       "    </tr>\n",
       "    <tr>\n",
       "      <th>1</th>\n",
       "      <td>የጤና ወግ - የጤና መረጃ</td>\n",
       "      <td>@yetenaweg</td>\n",
       "      <td>1246</td>\n",
       "      <td>NaN</td>\n",
       "      <td>2025-01-22 09:50:46+00:00</td>\n",
       "      <td>c:\\Users\\Dagi\\Documents\\KAIM\\week-7\\Ethiopian-...</td>\n",
       "    </tr>\n",
       "    <tr>\n",
       "      <th>2</th>\n",
       "      <td>የጤና ወግ - የጤና መረጃ</td>\n",
       "      <td>@yetenaweg</td>\n",
       "      <td>1245</td>\n",
       "      <td>🎗 ጥር የማህፀን በር ጫፍ ካንሰር የግንዛቤ ማስጨበጫ ወር ነው! 💙✨\\n\\...</td>\n",
       "      <td>2025-01-22 09:50:46+00:00</td>\n",
       "      <td>c:\\Users\\Dagi\\Documents\\KAIM\\week-7\\Ethiopian-...</td>\n",
       "    </tr>\n",
       "    <tr>\n",
       "      <th>3</th>\n",
       "      <td>የጤና ወግ - የጤና መረጃ</td>\n",
       "      <td>@yetenaweg</td>\n",
       "      <td>1244</td>\n",
       "      <td>NaN</td>\n",
       "      <td>2025-01-07 03:35:34+00:00</td>\n",
       "      <td>NaN</td>\n",
       "    </tr>\n",
       "    <tr>\n",
       "      <th>4</th>\n",
       "      <td>የጤና ወግ - የጤና መረጃ</td>\n",
       "      <td>@yetenaweg</td>\n",
       "      <td>1243</td>\n",
       "      <td>🌍🤔 ርእደ መሬት ቢከሰት ምን ማድረግ እንዳለብዎት ያውቃሉ? \\n\\n⚠️ርእ...</td>\n",
       "      <td>2025-01-07 03:35:26+00:00</td>\n",
       "      <td>c:\\Users\\Dagi\\Documents\\KAIM\\week-7\\Ethiopian-...</td>\n",
       "    </tr>\n",
       "  </tbody>\n",
       "</table>\n",
       "</div>"
      ],
      "text/plain": [
       "      Channel Title Channel Username    ID  \\\n",
       "0  የጤና ወግ - የጤና መረጃ       @yetenaweg  1247   \n",
       "1  የጤና ወግ - የጤና መረጃ       @yetenaweg  1246   \n",
       "2  የጤና ወግ - የጤና መረጃ       @yetenaweg  1245   \n",
       "3  የጤና ወግ - የጤና መረጃ       @yetenaweg  1244   \n",
       "4  የጤና ወግ - የጤና መረጃ       @yetenaweg  1243   \n",
       "\n",
       "                                             Message  \\\n",
       "0                                                NaN   \n",
       "1                                                NaN   \n",
       "2  🎗 ጥር የማህፀን በር ጫፍ ካንሰር የግንዛቤ ማስጨበጫ ወር ነው! 💙✨\\n\\...   \n",
       "3                                                NaN   \n",
       "4  🌍🤔 ርእደ መሬት ቢከሰት ምን ማድረግ እንዳለብዎት ያውቃሉ? \\n\\n⚠️ርእ...   \n",
       "\n",
       "                        Date  \\\n",
       "0  2025-01-22 09:50:47+00:00   \n",
       "1  2025-01-22 09:50:46+00:00   \n",
       "2  2025-01-22 09:50:46+00:00   \n",
       "3  2025-01-07 03:35:34+00:00   \n",
       "4  2025-01-07 03:35:26+00:00   \n",
       "\n",
       "                                          Media Path  \n",
       "0  c:\\Users\\Dagi\\Documents\\KAIM\\week-7\\Ethiopian-...  \n",
       "1  c:\\Users\\Dagi\\Documents\\KAIM\\week-7\\Ethiopian-...  \n",
       "2  c:\\Users\\Dagi\\Documents\\KAIM\\week-7\\Ethiopian-...  \n",
       "3                                                NaN  \n",
       "4  c:\\Users\\Dagi\\Documents\\KAIM\\week-7\\Ethiopian-...  "
      ]
     },
     "execution_count": 6,
     "metadata": {},
     "output_type": "execute_result"
    }
   ],
   "source": [
    "yetenaweg_data.head()"
   ]
  },
  {
   "cell_type": "markdown",
   "metadata": {},
   "source": [
    "## Merge the dataframes"
   ]
  },
  {
   "cell_type": "code",
   "execution_count": 7,
   "metadata": {},
   "outputs": [
    {
     "name": "stderr",
     "output_type": "stream",
     "text": [
      "2025-01-30 18:54:27,222 - INFO - Merging dataframes...\n",
      "2025-01-30 18:54:27,226 - INFO - Dataframes merged successfully\n"
     ]
    }
   ],
   "source": [
    "dataframes = [CheMed123_data , EAHCI_data ,lobelia4cosmetics_data, yetenaweg_data]\n",
    "df = data_cleaning.merge(dataframes)"
   ]
  },
  {
   "cell_type": "code",
   "execution_count": 8,
   "metadata": {},
   "outputs": [
    {
     "data": {
      "text/html": [
       "<div>\n",
       "<style scoped>\n",
       "    .dataframe tbody tr th:only-of-type {\n",
       "        vertical-align: middle;\n",
       "    }\n",
       "\n",
       "    .dataframe tbody tr th {\n",
       "        vertical-align: top;\n",
       "    }\n",
       "\n",
       "    .dataframe thead th {\n",
       "        text-align: right;\n",
       "    }\n",
       "</style>\n",
       "<table border=\"1\" class=\"dataframe\">\n",
       "  <thead>\n",
       "    <tr style=\"text-align: right;\">\n",
       "      <th></th>\n",
       "      <th>Channel Title</th>\n",
       "      <th>Channel Username</th>\n",
       "      <th>ID</th>\n",
       "      <th>Message</th>\n",
       "      <th>Date</th>\n",
       "      <th>Media Path</th>\n",
       "    </tr>\n",
       "  </thead>\n",
       "  <tbody>\n",
       "    <tr>\n",
       "      <th>0</th>\n",
       "      <td>Channel Title</td>\n",
       "      <td>Channel Username</td>\n",
       "      <td>ID</td>\n",
       "      <td>Message</td>\n",
       "      <td>Date</td>\n",
       "      <td>Media Path</td>\n",
       "    </tr>\n",
       "    <tr>\n",
       "      <th>1</th>\n",
       "      <td>CheMed</td>\n",
       "      <td>@CheMed123</td>\n",
       "      <td>97</td>\n",
       "      <td>⚠️Notice!\\nDear esteemed customers,\\nDue to fo...</td>\n",
       "      <td>2023-02-10 12:23:06+00:00</td>\n",
       "      <td>c:\\Users\\Dagi\\Documents\\KAIM\\week-7\\Ethiopian-...</td>\n",
       "    </tr>\n",
       "    <tr>\n",
       "      <th>2</th>\n",
       "      <td>CheMed</td>\n",
       "      <td>@CheMed123</td>\n",
       "      <td>96</td>\n",
       "      <td>Mela-One በውስጡ ሆርሞን ያለው ድንገተኛ ወሊድ መቆጣጠርያ ሲሆን ያለ...</td>\n",
       "      <td>2023-02-02 08:58:52+00:00</td>\n",
       "      <td>c:\\Users\\Dagi\\Documents\\KAIM\\week-7\\Ethiopian-...</td>\n",
       "    </tr>\n",
       "    <tr>\n",
       "      <th>3</th>\n",
       "      <td>CheMed</td>\n",
       "      <td>@CheMed123</td>\n",
       "      <td>95</td>\n",
       "      <td>አዚትሮማይሲን በሃኪም መድሃኒት ማዘዣ ከሚታዘዙ አንቲባዮቲኮች አንዱ ሲሆን...</td>\n",
       "      <td>2023-02-01 08:59:37+00:00</td>\n",
       "      <td>c:\\Users\\Dagi\\Documents\\KAIM\\week-7\\Ethiopian-...</td>\n",
       "    </tr>\n",
       "    <tr>\n",
       "      <th>4</th>\n",
       "      <td>CheMed</td>\n",
       "      <td>@CheMed123</td>\n",
       "      <td>94</td>\n",
       "      <td>Che-Med Trivia #3\\n\\nምግብና መጠጦች አንዳንድ መድሃኒቶች በደ...</td>\n",
       "      <td>2023-01-31 09:19:53+00:00</td>\n",
       "      <td>c:\\Users\\Dagi\\Documents\\KAIM\\week-7\\Ethiopian-...</td>\n",
       "    </tr>\n",
       "  </tbody>\n",
       "</table>\n",
       "</div>"
      ],
      "text/plain": [
       "   Channel Title  Channel Username  ID  \\\n",
       "0  Channel Title  Channel Username  ID   \n",
       "1         CheMed        @CheMed123  97   \n",
       "2         CheMed        @CheMed123  96   \n",
       "3         CheMed        @CheMed123  95   \n",
       "4         CheMed        @CheMed123  94   \n",
       "\n",
       "                                             Message  \\\n",
       "0                                            Message   \n",
       "1  ⚠️Notice!\\nDear esteemed customers,\\nDue to fo...   \n",
       "2  Mela-One በውስጡ ሆርሞን ያለው ድንገተኛ ወሊድ መቆጣጠርያ ሲሆን ያለ...   \n",
       "3  አዚትሮማይሲን በሃኪም መድሃኒት ማዘዣ ከሚታዘዙ አንቲባዮቲኮች አንዱ ሲሆን...   \n",
       "4  Che-Med Trivia #3\\n\\nምግብና መጠጦች አንዳንድ መድሃኒቶች በደ...   \n",
       "\n",
       "                        Date  \\\n",
       "0                       Date   \n",
       "1  2023-02-10 12:23:06+00:00   \n",
       "2  2023-02-02 08:58:52+00:00   \n",
       "3  2023-02-01 08:59:37+00:00   \n",
       "4  2023-01-31 09:19:53+00:00   \n",
       "\n",
       "                                          Media Path  \n",
       "0                                         Media Path  \n",
       "1  c:\\Users\\Dagi\\Documents\\KAIM\\week-7\\Ethiopian-...  \n",
       "2  c:\\Users\\Dagi\\Documents\\KAIM\\week-7\\Ethiopian-...  \n",
       "3  c:\\Users\\Dagi\\Documents\\KAIM\\week-7\\Ethiopian-...  \n",
       "4  c:\\Users\\Dagi\\Documents\\KAIM\\week-7\\Ethiopian-...  "
      ]
     },
     "execution_count": 8,
     "metadata": {},
     "output_type": "execute_result"
    }
   ],
   "source": [
    "df.head()"
   ]
  },
  {
   "cell_type": "code",
   "execution_count": 9,
   "metadata": {},
   "outputs": [
    {
     "data": {
      "text/plain": [
       "(1679, 6)"
      ]
     },
     "execution_count": 9,
     "metadata": {},
     "output_type": "execute_result"
    }
   ],
   "source": [
    "df.shape"
   ]
  },
  {
   "cell_type": "code",
   "execution_count": 10,
   "metadata": {},
   "outputs": [
    {
     "data": {
      "text/html": [
       "<div>\n",
       "<style scoped>\n",
       "    .dataframe tbody tr th:only-of-type {\n",
       "        vertical-align: middle;\n",
       "    }\n",
       "\n",
       "    .dataframe tbody tr th {\n",
       "        vertical-align: top;\n",
       "    }\n",
       "\n",
       "    .dataframe thead th {\n",
       "        text-align: right;\n",
       "    }\n",
       "</style>\n",
       "<table border=\"1\" class=\"dataframe\">\n",
       "  <thead>\n",
       "    <tr style=\"text-align: right;\">\n",
       "      <th></th>\n",
       "      <th>Channel Title</th>\n",
       "      <th>Channel Username</th>\n",
       "      <th>ID</th>\n",
       "      <th>Message</th>\n",
       "      <th>Date</th>\n",
       "      <th>Media Path</th>\n",
       "    </tr>\n",
       "  </thead>\n",
       "  <tbody>\n",
       "    <tr>\n",
       "      <th>1674</th>\n",
       "      <td>የጤና ወግ - የጤና መረጃ</td>\n",
       "      <td>@yetenaweg</td>\n",
       "      <td>1246</td>\n",
       "      <td>NaN</td>\n",
       "      <td>2025-01-22 09:50:46+00:00</td>\n",
       "      <td>c:\\Users\\Dagi\\Documents\\KAIM\\week-7\\Ethiopian-...</td>\n",
       "    </tr>\n",
       "    <tr>\n",
       "      <th>1675</th>\n",
       "      <td>የጤና ወግ - የጤና መረጃ</td>\n",
       "      <td>@yetenaweg</td>\n",
       "      <td>1245</td>\n",
       "      <td>🎗 ጥር የማህፀን በር ጫፍ ካንሰር የግንዛቤ ማስጨበጫ ወር ነው! 💙✨\\n\\...</td>\n",
       "      <td>2025-01-22 09:50:46+00:00</td>\n",
       "      <td>c:\\Users\\Dagi\\Documents\\KAIM\\week-7\\Ethiopian-...</td>\n",
       "    </tr>\n",
       "    <tr>\n",
       "      <th>1676</th>\n",
       "      <td>የጤና ወግ - የጤና መረጃ</td>\n",
       "      <td>@yetenaweg</td>\n",
       "      <td>1244</td>\n",
       "      <td>NaN</td>\n",
       "      <td>2025-01-07 03:35:34+00:00</td>\n",
       "      <td>NaN</td>\n",
       "    </tr>\n",
       "    <tr>\n",
       "      <th>1677</th>\n",
       "      <td>የጤና ወግ - የጤና መረጃ</td>\n",
       "      <td>@yetenaweg</td>\n",
       "      <td>1243</td>\n",
       "      <td>🌍🤔 ርእደ መሬት ቢከሰት ምን ማድረግ እንዳለብዎት ያውቃሉ? \\n\\n⚠️ርእ...</td>\n",
       "      <td>2025-01-07 03:35:26+00:00</td>\n",
       "      <td>c:\\Users\\Dagi\\Documents\\KAIM\\week-7\\Ethiopian-...</td>\n",
       "    </tr>\n",
       "    <tr>\n",
       "      <th>1678</th>\n",
       "      <td>የጤና ወግ - የጤና መረጃ</td>\n",
       "      <td>@yetenaweg</td>\n",
       "      <td>1242</td>\n",
       "      <td>🎙✨ የጤና ወግ ቪዲዮ ፖድካስት ✨🎙\\n\\n🤝ከ EngenderHealth እና...</td>\n",
       "      <td>2024-12-16 07:08:46+00:00</td>\n",
       "      <td>c:\\Users\\Dagi\\Documents\\KAIM\\week-7\\Ethiopian-...</td>\n",
       "    </tr>\n",
       "  </tbody>\n",
       "</table>\n",
       "</div>"
      ],
      "text/plain": [
       "         Channel Title Channel Username    ID  \\\n",
       "1674  የጤና ወግ - የጤና መረጃ       @yetenaweg  1246   \n",
       "1675  የጤና ወግ - የጤና መረጃ       @yetenaweg  1245   \n",
       "1676  የጤና ወግ - የጤና መረጃ       @yetenaweg  1244   \n",
       "1677  የጤና ወግ - የጤና መረጃ       @yetenaweg  1243   \n",
       "1678  የጤና ወግ - የጤና መረጃ       @yetenaweg  1242   \n",
       "\n",
       "                                                Message  \\\n",
       "1674                                                NaN   \n",
       "1675  🎗 ጥር የማህፀን በር ጫፍ ካንሰር የግንዛቤ ማስጨበጫ ወር ነው! 💙✨\\n\\...   \n",
       "1676                                                NaN   \n",
       "1677  🌍🤔 ርእደ መሬት ቢከሰት ምን ማድረግ እንዳለብዎት ያውቃሉ? \\n\\n⚠️ርእ...   \n",
       "1678  🎙✨ የጤና ወግ ቪዲዮ ፖድካስት ✨🎙\\n\\n🤝ከ EngenderHealth እና...   \n",
       "\n",
       "                           Date  \\\n",
       "1674  2025-01-22 09:50:46+00:00   \n",
       "1675  2025-01-22 09:50:46+00:00   \n",
       "1676  2025-01-07 03:35:34+00:00   \n",
       "1677  2025-01-07 03:35:26+00:00   \n",
       "1678  2024-12-16 07:08:46+00:00   \n",
       "\n",
       "                                             Media Path  \n",
       "1674  c:\\Users\\Dagi\\Documents\\KAIM\\week-7\\Ethiopian-...  \n",
       "1675  c:\\Users\\Dagi\\Documents\\KAIM\\week-7\\Ethiopian-...  \n",
       "1676                                                NaN  \n",
       "1677  c:\\Users\\Dagi\\Documents\\KAIM\\week-7\\Ethiopian-...  \n",
       "1678  c:\\Users\\Dagi\\Documents\\KAIM\\week-7\\Ethiopian-...  "
      ]
     },
     "execution_count": 10,
     "metadata": {},
     "output_type": "execute_result"
    }
   ],
   "source": [
    "df.tail()"
   ]
  },
  {
   "cell_type": "code",
   "execution_count": 11,
   "metadata": {},
   "outputs": [
    {
     "name": "stderr",
     "output_type": "stream",
     "text": [
      "2025-01-30 18:54:31,877 - INFO - Duplicates removed from dataset.\n",
      "c:\\Users\\Dagi\\Documents\\KAIM\\week-7\\Ethiopian-Medical-DataWarehouse\\scripts\\DataCleaningTransformation.py:126: UserWarning: Could not infer format, so each element will be parsed individually, falling back to `dateutil`. To ensure parsing is consistent and as-expected, please specify a format.\n",
      "  df.loc[:, 'Date'] = pd.to_datetime(df['Date'], errors='coerce')\n",
      "2025-01-30 18:54:32,415 - INFO - Date column formatted to datetime.\n",
      "2025-01-30 18:54:32,446 - INFO - Missing values filled.\n",
      "2025-01-30 18:54:32,490 - INFO - Text columns standardized.\n",
      "2025-01-30 18:54:32,548 - INFO - Emojis extracted and stored in 'emoji_used' column.\n",
      "2025-01-30 18:54:32,598 - INFO - YouTube links extracted and stored in 'youtube_links' column.\n",
      "2025-01-30 18:54:32,625 - INFO - Data cleaning completed successfully.\n"
     ]
    },
    {
     "data": {
      "text/html": [
       "<div>\n",
       "<style scoped>\n",
       "    .dataframe tbody tr th:only-of-type {\n",
       "        vertical-align: middle;\n",
       "    }\n",
       "\n",
       "    .dataframe tbody tr th {\n",
       "        vertical-align: top;\n",
       "    }\n",
       "\n",
       "    .dataframe thead th {\n",
       "        text-align: right;\n",
       "    }\n",
       "</style>\n",
       "<table border=\"1\" class=\"dataframe\">\n",
       "  <thead>\n",
       "    <tr style=\"text-align: right;\">\n",
       "      <th></th>\n",
       "      <th>channel_title</th>\n",
       "      <th>channel_username</th>\n",
       "      <th>message_id</th>\n",
       "      <th>message</th>\n",
       "      <th>message_date</th>\n",
       "      <th>media_path</th>\n",
       "      <th>emoji_used</th>\n",
       "      <th>youtube_links</th>\n",
       "    </tr>\n",
       "  </thead>\n",
       "  <tbody>\n",
       "    <tr>\n",
       "      <th>0</th>\n",
       "      <td>Channel Title</td>\n",
       "      <td>Channel Username</td>\n",
       "      <td>0</td>\n",
       "      <td>Message</td>\n",
       "      <td>None</td>\n",
       "      <td>Media Path</td>\n",
       "      <td>No emoji</td>\n",
       "      <td>No YouTube link</td>\n",
       "    </tr>\n",
       "    <tr>\n",
       "      <th>1</th>\n",
       "      <td>CheMed</td>\n",
       "      <td>@CheMed123</td>\n",
       "      <td>97</td>\n",
       "      <td>⚠️Notice!\\nDear esteemed customers,\\nDue to fo...</td>\n",
       "      <td>2023-02-10 12:23:06+00:00</td>\n",
       "      <td>c:\\Users\\Dagi\\Documents\\KAIM\\week-7\\Ethiopian-...</td>\n",
       "      <td>⚠🔅🔅</td>\n",
       "      <td>No YouTube link</td>\n",
       "    </tr>\n",
       "    <tr>\n",
       "      <th>2</th>\n",
       "      <td>CheMed</td>\n",
       "      <td>@CheMed123</td>\n",
       "      <td>96</td>\n",
       "      <td>Mela-One በውስጡ ሆርሞን ያለው ድንገተኛ ወሊድ መቆጣጠርያ ሲሆን ያለ...</td>\n",
       "      <td>2023-02-02 08:58:52+00:00</td>\n",
       "      <td>c:\\Users\\Dagi\\Documents\\KAIM\\week-7\\Ethiopian-...</td>\n",
       "      <td>📌</td>\n",
       "      <td>No YouTube link</td>\n",
       "    </tr>\n",
       "    <tr>\n",
       "      <th>3</th>\n",
       "      <td>CheMed</td>\n",
       "      <td>@CheMed123</td>\n",
       "      <td>95</td>\n",
       "      <td>አዚትሮማይሲን በሃኪም መድሃኒት ማዘዣ ከሚታዘዙ አንቲባዮቲኮች አንዱ ሲሆን...</td>\n",
       "      <td>2023-02-01 08:59:37+00:00</td>\n",
       "      <td>c:\\Users\\Dagi\\Documents\\KAIM\\week-7\\Ethiopian-...</td>\n",
       "      <td>📌</td>\n",
       "      <td>No YouTube link</td>\n",
       "    </tr>\n",
       "    <tr>\n",
       "      <th>4</th>\n",
       "      <td>CheMed</td>\n",
       "      <td>@CheMed123</td>\n",
       "      <td>94</td>\n",
       "      <td>Che-Med Trivia #3\\n\\nምግብና መጠጦች አንዳንድ መድሃኒቶች በደ...</td>\n",
       "      <td>2023-01-31 09:19:53+00:00</td>\n",
       "      <td>c:\\Users\\Dagi\\Documents\\KAIM\\week-7\\Ethiopian-...</td>\n",
       "      <td>No emoji</td>\n",
       "      <td>No YouTube link</td>\n",
       "    </tr>\n",
       "    <tr>\n",
       "      <th>...</th>\n",
       "      <td>...</td>\n",
       "      <td>...</td>\n",
       "      <td>...</td>\n",
       "      <td>...</td>\n",
       "      <td>...</td>\n",
       "      <td>...</td>\n",
       "      <td>...</td>\n",
       "      <td>...</td>\n",
       "    </tr>\n",
       "    <tr>\n",
       "      <th>107</th>\n",
       "      <td>ETHIO-AMERICAN MEDICAL TRAININGS( CPD ) &amp; HEAL...</td>\n",
       "      <td>@EAHCI</td>\n",
       "      <td>2581</td>\n",
       "      <td>💥Adult_ECHO_Training@#AXUM_አክሱም_By_Cardiologis...</td>\n",
       "      <td>2025-01-19 09:27:42+00:00</td>\n",
       "      <td>c:\\Users\\Dagi\\Documents\\KAIM\\week-7\\Ethiopian-...</td>\n",
       "      <td>💥👉👉📞📞</td>\n",
       "      <td>No YouTube link</td>\n",
       "    </tr>\n",
       "    <tr>\n",
       "      <th>108</th>\n",
       "      <td>ETHIO-AMERICAN MEDICAL TRAININGS( CPD ) &amp; HEAL...</td>\n",
       "      <td>@EAHCI</td>\n",
       "      <td>2580</td>\n",
       "      <td>#ለመላው_ውድ_ኦርቶዶክሳዊያን። እንኳን ለከተራ በአል በሰላም አደረሳችሁ።</td>\n",
       "      <td>2025-01-18 12:41:52+00:00</td>\n",
       "      <td>c:\\Users\\Dagi\\Documents\\KAIM\\week-7\\Ethiopian-...</td>\n",
       "      <td>No emoji</td>\n",
       "      <td>No YouTube link</td>\n",
       "    </tr>\n",
       "    <tr>\n",
       "      <th>109</th>\n",
       "      <td>ETHIO-AMERICAN MEDICAL TRAININGS( CPD ) &amp; HEAL...</td>\n",
       "      <td>@EAHCI</td>\n",
       "      <td>2579</td>\n",
       "      <td>#💥CPD_አሁን_ይመዝገቡ #የሞያ_ፈቃድ_ለማሳደስ_CPD_ይመዝገቡ\\n#Tit...</td>\n",
       "      <td>2025-01-17 13:12:09+00:00</td>\n",
       "      <td>c:\\Users\\Dagi\\Documents\\KAIM\\week-7\\Ethiopian-...</td>\n",
       "      <td>💥🔶👉📱📱📱📱📱📳🏃❗</td>\n",
       "      <td>No YouTube link</td>\n",
       "    </tr>\n",
       "    <tr>\n",
       "      <th>110</th>\n",
       "      <td>ETHIO-AMERICAN MEDICAL TRAININGS( CPD ) &amp; HEAL...</td>\n",
       "      <td>@EAHCI</td>\n",
       "      <td>2578</td>\n",
       "      <td>#💥CPD_አሁን_ይመዝገቡ #የሞያ_ፈቃድ_ለማሳደስ_CPD_ይመዝገቡ\\n#Tit...</td>\n",
       "      <td>2025-01-16 06:10:26+00:00</td>\n",
       "      <td>c:\\Users\\Dagi\\Documents\\KAIM\\week-7\\Ethiopian-...</td>\n",
       "      <td>💥🔶👉📱📱📱📱📱📳🏃❗</td>\n",
       "      <td>No YouTube link</td>\n",
       "    </tr>\n",
       "    <tr>\n",
       "      <th>111</th>\n",
       "      <td>ETHIO-AMERICAN MEDICAL TRAININGS( CPD ) &amp; HEAL...</td>\n",
       "      <td>@EAHCI</td>\n",
       "      <td>2577</td>\n",
       "      <td>#OBGYN_Ultrasound_Training@Hawassa!\\n#ጥር_12/20...</td>\n",
       "      <td>2025-01-13 06:20:54+00:00</td>\n",
       "      <td>c:\\Users\\Dagi\\Documents\\KAIM\\week-7\\Ethiopian-...</td>\n",
       "      <td>✔💥☎☎☎☎☎🏃</td>\n",
       "      <td>No YouTube link</td>\n",
       "    </tr>\n",
       "  </tbody>\n",
       "</table>\n",
       "<p>100 rows × 8 columns</p>\n",
       "</div>"
      ],
      "text/plain": [
       "                                         channel_title  channel_username  \\\n",
       "0                                        Channel Title  Channel Username   \n",
       "1                                               CheMed        @CheMed123   \n",
       "2                                               CheMed        @CheMed123   \n",
       "3                                               CheMed        @CheMed123   \n",
       "4                                               CheMed        @CheMed123   \n",
       "..                                                 ...               ...   \n",
       "107  ETHIO-AMERICAN MEDICAL TRAININGS( CPD ) & HEAL...            @EAHCI   \n",
       "108  ETHIO-AMERICAN MEDICAL TRAININGS( CPD ) & HEAL...            @EAHCI   \n",
       "109  ETHIO-AMERICAN MEDICAL TRAININGS( CPD ) & HEAL...            @EAHCI   \n",
       "110  ETHIO-AMERICAN MEDICAL TRAININGS( CPD ) & HEAL...            @EAHCI   \n",
       "111  ETHIO-AMERICAN MEDICAL TRAININGS( CPD ) & HEAL...            @EAHCI   \n",
       "\n",
       "    message_id                                            message  \\\n",
       "0            0                                            Message   \n",
       "1           97  ⚠️Notice!\\nDear esteemed customers,\\nDue to fo...   \n",
       "2           96  Mela-One በውስጡ ሆርሞን ያለው ድንገተኛ ወሊድ መቆጣጠርያ ሲሆን ያለ...   \n",
       "3           95  አዚትሮማይሲን በሃኪም መድሃኒት ማዘዣ ከሚታዘዙ አንቲባዮቲኮች አንዱ ሲሆን...   \n",
       "4           94  Che-Med Trivia #3\\n\\nምግብና መጠጦች አንዳንድ መድሃኒቶች በደ...   \n",
       "..         ...                                                ...   \n",
       "107       2581  💥Adult_ECHO_Training@#AXUM_አክሱም_By_Cardiologis...   \n",
       "108       2580     #ለመላው_ውድ_ኦርቶዶክሳዊያን። እንኳን ለከተራ በአል በሰላም አደረሳችሁ።   \n",
       "109       2579  #💥CPD_አሁን_ይመዝገቡ #የሞያ_ፈቃድ_ለማሳደስ_CPD_ይመዝገቡ\\n#Tit...   \n",
       "110       2578  #💥CPD_አሁን_ይመዝገቡ #የሞያ_ፈቃድ_ለማሳደስ_CPD_ይመዝገቡ\\n#Tit...   \n",
       "111       2577  #OBGYN_Ultrasound_Training@Hawassa!\\n#ጥር_12/20...   \n",
       "\n",
       "                  message_date  \\\n",
       "0                         None   \n",
       "1    2023-02-10 12:23:06+00:00   \n",
       "2    2023-02-02 08:58:52+00:00   \n",
       "3    2023-02-01 08:59:37+00:00   \n",
       "4    2023-01-31 09:19:53+00:00   \n",
       "..                         ...   \n",
       "107  2025-01-19 09:27:42+00:00   \n",
       "108  2025-01-18 12:41:52+00:00   \n",
       "109  2025-01-17 13:12:09+00:00   \n",
       "110  2025-01-16 06:10:26+00:00   \n",
       "111  2025-01-13 06:20:54+00:00   \n",
       "\n",
       "                                            media_path   emoji_used  \\\n",
       "0                                           Media Path     No emoji   \n",
       "1    c:\\Users\\Dagi\\Documents\\KAIM\\week-7\\Ethiopian-...          ⚠🔅🔅   \n",
       "2    c:\\Users\\Dagi\\Documents\\KAIM\\week-7\\Ethiopian-...            📌   \n",
       "3    c:\\Users\\Dagi\\Documents\\KAIM\\week-7\\Ethiopian-...            📌   \n",
       "4    c:\\Users\\Dagi\\Documents\\KAIM\\week-7\\Ethiopian-...     No emoji   \n",
       "..                                                 ...          ...   \n",
       "107  c:\\Users\\Dagi\\Documents\\KAIM\\week-7\\Ethiopian-...        💥👉👉📞📞   \n",
       "108  c:\\Users\\Dagi\\Documents\\KAIM\\week-7\\Ethiopian-...     No emoji   \n",
       "109  c:\\Users\\Dagi\\Documents\\KAIM\\week-7\\Ethiopian-...  💥🔶👉📱📱📱📱📱📳🏃❗   \n",
       "110  c:\\Users\\Dagi\\Documents\\KAIM\\week-7\\Ethiopian-...  💥🔶👉📱📱📱📱📱📳🏃❗   \n",
       "111  c:\\Users\\Dagi\\Documents\\KAIM\\week-7\\Ethiopian-...     ✔💥☎☎☎☎☎🏃   \n",
       "\n",
       "       youtube_links  \n",
       "0    No YouTube link  \n",
       "1    No YouTube link  \n",
       "2    No YouTube link  \n",
       "3    No YouTube link  \n",
       "4    No YouTube link  \n",
       "..               ...  \n",
       "107  No YouTube link  \n",
       "108  No YouTube link  \n",
       "109  No YouTube link  \n",
       "110  No YouTube link  \n",
       "111  No YouTube link  \n",
       "\n",
       "[100 rows x 8 columns]"
      ]
     },
     "execution_count": 11,
     "metadata": {},
     "output_type": "execute_result"
    }
   ],
   "source": [
    "cleaned_data = data_cleaning.clean_dataframe(df)\n",
    "cleaned_data.head(100)"
   ]
  },
  {
   "cell_type": "markdown",
   "metadata": {},
   "source": [
    "### Handle duplicates"
   ]
  },
  {
   "cell_type": "code",
   "execution_count": 12,
   "metadata": {},
   "outputs": [
    {
     "name": "stderr",
     "output_type": "stream",
     "text": [
      "2025-01-30 18:54:32,761 - INFO - Checking for duplicates...\n",
      "2025-01-30 18:54:33,715 - INFO - Found 26 duplicate rows\n"
     ]
    }
   ],
   "source": [
    "# Check for duplicates\n",
    "duplicates = data_cleaning.check_duplicates(df)"
   ]
  },
  {
   "cell_type": "markdown",
   "metadata": {},
   "source": [
    "○\tHandling Missing Values"
   ]
  },
  {
   "cell_type": "code",
   "execution_count": 13,
   "metadata": {},
   "outputs": [
    {
     "name": "stderr",
     "output_type": "stream",
     "text": [
      "2025-01-30 18:54:33,746 - INFO - Checking for missing values...\n",
      "2025-01-30 18:54:33,752 - INFO - Found 1 missing values\n"
     ]
    },
    {
     "name": "stdout",
     "output_type": "stream",
     "text": [
      "channel_title       0\n",
      "channel_username    0\n",
      "message_id          0\n",
      "message             0\n",
      "message_date        1\n",
      "media_path          0\n",
      "emoji_used          0\n",
      "youtube_links       0\n",
      "dtype: int64\n"
     ]
    }
   ],
   "source": [
    "# Check for missing values\n",
    "missing_values = data_cleaning.check_missing_values(cleaned_data)\n",
    "print(missing_values)\n"
   ]
  },
  {
   "cell_type": "code",
   "execution_count": 14,
   "metadata": {},
   "outputs": [
    {
     "name": "stderr",
     "output_type": "stream",
     "text": [
      "2025-01-30 18:54:34,230 - INFO - Handling missing values by dropping rows with missing values...\n",
      "2025-01-30 18:54:34,238 - INFO - Dropped 1 rows with missing values\n"
     ]
    }
   ],
   "source": [
    "cleaned_data = data_cleaning.handle_missing_values(cleaned_data)"
   ]
  },
  {
   "cell_type": "code",
   "execution_count": 15,
   "metadata": {},
   "outputs": [
    {
     "name": "stderr",
     "output_type": "stream",
     "text": [
      "2025-01-30 18:54:34,696 - INFO - Checking for missing values...\n",
      "2025-01-30 18:54:34,699 - INFO - No missing values found\n"
     ]
    },
    {
     "name": "stdout",
     "output_type": "stream",
     "text": [
      "channel_title       0\n",
      "channel_username    0\n",
      "message_id          0\n",
      "message             0\n",
      "message_date        0\n",
      "media_path          0\n",
      "emoji_used          0\n",
      "youtube_links       0\n",
      "dtype: int64\n"
     ]
    }
   ],
   "source": [
    "# Check for missing values\n",
    "missing_values = data_cleaning.check_missing_values(cleaned_data)\n",
    "print(missing_values)"
   ]
  },
  {
   "cell_type": "code",
   "execution_count": 17,
   "metadata": {},
   "outputs": [
    {
     "name": "stderr",
     "output_type": "stream",
     "text": [
      "2025-01-30 18:54:58,854 - INFO - Cleaned data saved successfully to 'c:\\Users\\Dagi\\Documents\\KAIM\\week-7\\Ethiopian-Medical-DataWarehouse\\notebooks\\../data/cleaned_data_final.csv'.\n"
     ]
    },
    {
     "name": "stdout",
     "output_type": "stream",
     "text": [
      "Cleaned data saved successfully to 'c:\\Users\\Dagi\\Documents\\KAIM\\week-7\\Ethiopian-Medical-DataWarehouse\\notebooks\\../data/cleaned_data_final.csv'.\n"
     ]
    }
   ],
   "source": [
    "cleaned_file_path = os.path.join(os.path.dirname(os.path.abspath('__file__')), \"../data/cleaned_data_final.csv\")\n",
    "data_cleaning.save_cleaned_data(cleaned_data, cleaned_file_path)"
   ]
  }
 ],
 "metadata": {
  "kernelspec": {
   "display_name": "week-7",
   "language": "python",
   "name": "python3"
  },
  "language_info": {
   "codemirror_mode": {
    "name": "ipython",
    "version": 3
   },
   "file_extension": ".py",
   "mimetype": "text/x-python",
   "name": "python",
   "nbconvert_exporter": "python",
   "pygments_lexer": "ipython3",
   "version": "3.12.5"
  }
 },
 "nbformat": 4,
 "nbformat_minor": 2
}
