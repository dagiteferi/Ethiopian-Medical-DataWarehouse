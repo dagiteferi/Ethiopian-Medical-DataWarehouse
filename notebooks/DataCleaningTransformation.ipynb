{
 "cells": [
  {
   "cell_type": "code",
   "execution_count": 1,
   "metadata": {},
   "outputs": [],
   "source": [
    "import os,sys\n",
    "sys.path.append(os.path.abspath('../scripts'))"
   ]
  },
  {
   "cell_type": "code",
   "execution_count": 2,
   "metadata": {},
   "outputs": [],
   "source": [
    "from DataCleaningTransformation import DataCleaning"
   ]
  },
  {
   "cell_type": "code",
   "execution_count": 3,
   "metadata": {},
   "outputs": [],
   "source": [
    "# Setup logging\n",
    "import logging\n",
    "LOG_FILE = os.path.join(os.path.dirname(os.path.abspath('__file__')), \"data_cleaning.log\")\n",
    "logging.basicConfig(\n",
    "    filename=LOG_FILE,\n",
    "    level=logging.INFO,\n",
    "    format=\"%(asctime)s - %(levelname)s - %(message)s\"\n",
    ")"
   ]
  },
  {
   "cell_type": "markdown",
   "metadata": {},
   "source": [
    "## Load the data"
   ]
  },
  {
   "cell_type": "code",
   "execution_count": 4,
   "metadata": {},
   "outputs": [
    {
     "name": "stderr",
     "output_type": "stream",
     "text": [
      "2025-01-30 12:13:19,529 - INFO - Loading the data\n",
      "2025-01-30 12:13:19,612 - INFO - Loading the data\n",
      "2025-01-30 12:13:19,687 - INFO - Loading the data\n",
      "2025-01-30 12:13:20,044 - INFO - Loading the data\n"
     ]
    }
   ],
   "source": [
    "# Create an instance of the DataCleaning class\n",
    "data_cleaning = DataCleaning()\n",
    "\n",
    "# Load data into individual dataframes\n",
    "CheMed123_data = data_cleaning.load_data('../data/CheMed123_data.csv')\n",
    "EAHCI_data = data_cleaning.load_data('../data/EAHCI_data.csv')\n",
    "lobelia4cosmetics_data = data_cleaning.load_data('../data/lobelia4cosmetics_data.csv')\n",
    "yetenaweg_data = data_cleaning.load_data('../data/yetenaweg_data.csv')\n"
   ]
  },
  {
   "cell_type": "code",
   "execution_count": 5,
   "metadata": {},
   "outputs": [
    {
     "data": {
      "text/plain": [
       "(87, 6)"
      ]
     },
     "execution_count": 5,
     "metadata": {},
     "output_type": "execute_result"
    }
   ],
   "source": [
    "CheMed123_data.shape"
   ]
  },
  {
   "cell_type": "code",
   "execution_count": 6,
   "metadata": {},
   "outputs": [
    {
     "data": {
      "text/html": [
       "<div>\n",
       "<style scoped>\n",
       "    .dataframe tbody tr th:only-of-type {\n",
       "        vertical-align: middle;\n",
       "    }\n",
       "\n",
       "    .dataframe tbody tr th {\n",
       "        vertical-align: top;\n",
       "    }\n",
       "\n",
       "    .dataframe thead th {\n",
       "        text-align: right;\n",
       "    }\n",
       "</style>\n",
       "<table border=\"1\" class=\"dataframe\">\n",
       "  <thead>\n",
       "    <tr style=\"text-align: right;\">\n",
       "      <th></th>\n",
       "      <th>Channel Title</th>\n",
       "      <th>Channel Username</th>\n",
       "      <th>ID</th>\n",
       "      <th>Message</th>\n",
       "      <th>Date</th>\n",
       "      <th>Media Path</th>\n",
       "    </tr>\n",
       "  </thead>\n",
       "  <tbody>\n",
       "    <tr>\n",
       "      <th>0</th>\n",
       "      <td>የጤና ወግ - የጤና መረጃ</td>\n",
       "      <td>@yetenaweg</td>\n",
       "      <td>1247</td>\n",
       "      <td>NaN</td>\n",
       "      <td>2025-01-22 09:50:47+00:00</td>\n",
       "      <td>c:\\Users\\Dagi\\Documents\\KAIM\\week-7\\Ethiopian-...</td>\n",
       "    </tr>\n",
       "    <tr>\n",
       "      <th>1</th>\n",
       "      <td>የጤና ወግ - የጤና መረጃ</td>\n",
       "      <td>@yetenaweg</td>\n",
       "      <td>1246</td>\n",
       "      <td>NaN</td>\n",
       "      <td>2025-01-22 09:50:46+00:00</td>\n",
       "      <td>c:\\Users\\Dagi\\Documents\\KAIM\\week-7\\Ethiopian-...</td>\n",
       "    </tr>\n",
       "    <tr>\n",
       "      <th>2</th>\n",
       "      <td>የጤና ወግ - የጤና መረጃ</td>\n",
       "      <td>@yetenaweg</td>\n",
       "      <td>1245</td>\n",
       "      <td>🎗 ጥር የማህፀን በር ጫፍ ካንሰር የግንዛቤ ማስጨበጫ ወር ነው! 💙✨\\n\\...</td>\n",
       "      <td>2025-01-22 09:50:46+00:00</td>\n",
       "      <td>c:\\Users\\Dagi\\Documents\\KAIM\\week-7\\Ethiopian-...</td>\n",
       "    </tr>\n",
       "    <tr>\n",
       "      <th>3</th>\n",
       "      <td>የጤና ወግ - የጤና መረጃ</td>\n",
       "      <td>@yetenaweg</td>\n",
       "      <td>1244</td>\n",
       "      <td>NaN</td>\n",
       "      <td>2025-01-07 03:35:34+00:00</td>\n",
       "      <td>NaN</td>\n",
       "    </tr>\n",
       "    <tr>\n",
       "      <th>4</th>\n",
       "      <td>የጤና ወግ - የጤና መረጃ</td>\n",
       "      <td>@yetenaweg</td>\n",
       "      <td>1243</td>\n",
       "      <td>🌍🤔 ርእደ መሬት ቢከሰት ምን ማድረግ እንዳለብዎት ያውቃሉ? \\n\\n⚠️ርእ...</td>\n",
       "      <td>2025-01-07 03:35:26+00:00</td>\n",
       "      <td>c:\\Users\\Dagi\\Documents\\KAIM\\week-7\\Ethiopian-...</td>\n",
       "    </tr>\n",
       "  </tbody>\n",
       "</table>\n",
       "</div>"
      ],
      "text/plain": [
       "      Channel Title Channel Username    ID  \\\n",
       "0  የጤና ወግ - የጤና መረጃ       @yetenaweg  1247   \n",
       "1  የጤና ወግ - የጤና መረጃ       @yetenaweg  1246   \n",
       "2  የጤና ወግ - የጤና መረጃ       @yetenaweg  1245   \n",
       "3  የጤና ወግ - የጤና መረጃ       @yetenaweg  1244   \n",
       "4  የጤና ወግ - የጤና መረጃ       @yetenaweg  1243   \n",
       "\n",
       "                                             Message  \\\n",
       "0                                                NaN   \n",
       "1                                                NaN   \n",
       "2  🎗 ጥር የማህፀን በር ጫፍ ካንሰር የግንዛቤ ማስጨበጫ ወር ነው! 💙✨\\n\\...   \n",
       "3                                                NaN   \n",
       "4  🌍🤔 ርእደ መሬት ቢከሰት ምን ማድረግ እንዳለብዎት ያውቃሉ? \\n\\n⚠️ርእ...   \n",
       "\n",
       "                        Date  \\\n",
       "0  2025-01-22 09:50:47+00:00   \n",
       "1  2025-01-22 09:50:46+00:00   \n",
       "2  2025-01-22 09:50:46+00:00   \n",
       "3  2025-01-07 03:35:34+00:00   \n",
       "4  2025-01-07 03:35:26+00:00   \n",
       "\n",
       "                                          Media Path  \n",
       "0  c:\\Users\\Dagi\\Documents\\KAIM\\week-7\\Ethiopian-...  \n",
       "1  c:\\Users\\Dagi\\Documents\\KAIM\\week-7\\Ethiopian-...  \n",
       "2  c:\\Users\\Dagi\\Documents\\KAIM\\week-7\\Ethiopian-...  \n",
       "3                                                NaN  \n",
       "4  c:\\Users\\Dagi\\Documents\\KAIM\\week-7\\Ethiopian-...  "
      ]
     },
     "execution_count": 6,
     "metadata": {},
     "output_type": "execute_result"
    }
   ],
   "source": [
    "yetenaweg_data.head()"
   ]
  },
  {
   "cell_type": "markdown",
   "metadata": {},
   "source": [
    "## Merge the dataframes"
   ]
  },
  {
   "cell_type": "code",
   "execution_count": 7,
   "metadata": {},
   "outputs": [
    {
     "name": "stderr",
     "output_type": "stream",
     "text": [
      "2025-01-30 12:13:20,685 - INFO - Merging dataframes...\n",
      "2025-01-30 12:13:20,692 - INFO - Dataframes merged successfully\n"
     ]
    }
   ],
   "source": [
    "dataframes = [CheMed123_data , EAHCI_data ,lobelia4cosmetics_data, yetenaweg_data]\n",
    "df = data_cleaning.merge(dataframes)"
   ]
  },
  {
   "cell_type": "code",
   "execution_count": 8,
   "metadata": {},
   "outputs": [
    {
     "data": {
      "text/html": [
       "<div>\n",
       "<style scoped>\n",
       "    .dataframe tbody tr th:only-of-type {\n",
       "        vertical-align: middle;\n",
       "    }\n",
       "\n",
       "    .dataframe tbody tr th {\n",
       "        vertical-align: top;\n",
       "    }\n",
       "\n",
       "    .dataframe thead th {\n",
       "        text-align: right;\n",
       "    }\n",
       "</style>\n",
       "<table border=\"1\" class=\"dataframe\">\n",
       "  <thead>\n",
       "    <tr style=\"text-align: right;\">\n",
       "      <th></th>\n",
       "      <th>Channel Title</th>\n",
       "      <th>Channel Username</th>\n",
       "      <th>ID</th>\n",
       "      <th>Message</th>\n",
       "      <th>Date</th>\n",
       "      <th>Media Path</th>\n",
       "    </tr>\n",
       "  </thead>\n",
       "  <tbody>\n",
       "    <tr>\n",
       "      <th>0</th>\n",
       "      <td>Channel Title</td>\n",
       "      <td>Channel Username</td>\n",
       "      <td>ID</td>\n",
       "      <td>Message</td>\n",
       "      <td>Date</td>\n",
       "      <td>Media Path</td>\n",
       "    </tr>\n",
       "    <tr>\n",
       "      <th>1</th>\n",
       "      <td>CheMed</td>\n",
       "      <td>@CheMed123</td>\n",
       "      <td>97</td>\n",
       "      <td>⚠️Notice!\\nDear esteemed customers,\\nDue to fo...</td>\n",
       "      <td>2023-02-10 12:23:06+00:00</td>\n",
       "      <td>c:\\Users\\Dagi\\Documents\\KAIM\\week-7\\Ethiopian-...</td>\n",
       "    </tr>\n",
       "    <tr>\n",
       "      <th>2</th>\n",
       "      <td>CheMed</td>\n",
       "      <td>@CheMed123</td>\n",
       "      <td>96</td>\n",
       "      <td>Mela-One በውስጡ ሆርሞን ያለው ድንገተኛ ወሊድ መቆጣጠርያ ሲሆን ያለ...</td>\n",
       "      <td>2023-02-02 08:58:52+00:00</td>\n",
       "      <td>c:\\Users\\Dagi\\Documents\\KAIM\\week-7\\Ethiopian-...</td>\n",
       "    </tr>\n",
       "    <tr>\n",
       "      <th>3</th>\n",
       "      <td>CheMed</td>\n",
       "      <td>@CheMed123</td>\n",
       "      <td>95</td>\n",
       "      <td>አዚትሮማይሲን በሃኪም መድሃኒት ማዘዣ ከሚታዘዙ አንቲባዮቲኮች አንዱ ሲሆን...</td>\n",
       "      <td>2023-02-01 08:59:37+00:00</td>\n",
       "      <td>c:\\Users\\Dagi\\Documents\\KAIM\\week-7\\Ethiopian-...</td>\n",
       "    </tr>\n",
       "    <tr>\n",
       "      <th>4</th>\n",
       "      <td>CheMed</td>\n",
       "      <td>@CheMed123</td>\n",
       "      <td>94</td>\n",
       "      <td>Che-Med Trivia #3\\n\\nምግብና መጠጦች አንዳንድ መድሃኒቶች በደ...</td>\n",
       "      <td>2023-01-31 09:19:53+00:00</td>\n",
       "      <td>c:\\Users\\Dagi\\Documents\\KAIM\\week-7\\Ethiopian-...</td>\n",
       "    </tr>\n",
       "  </tbody>\n",
       "</table>\n",
       "</div>"
      ],
      "text/plain": [
       "   Channel Title  Channel Username  ID  \\\n",
       "0  Channel Title  Channel Username  ID   \n",
       "1         CheMed        @CheMed123  97   \n",
       "2         CheMed        @CheMed123  96   \n",
       "3         CheMed        @CheMed123  95   \n",
       "4         CheMed        @CheMed123  94   \n",
       "\n",
       "                                             Message  \\\n",
       "0                                            Message   \n",
       "1  ⚠️Notice!\\nDear esteemed customers,\\nDue to fo...   \n",
       "2  Mela-One በውስጡ ሆርሞን ያለው ድንገተኛ ወሊድ መቆጣጠርያ ሲሆን ያለ...   \n",
       "3  አዚትሮማይሲን በሃኪም መድሃኒት ማዘዣ ከሚታዘዙ አንቲባዮቲኮች አንዱ ሲሆን...   \n",
       "4  Che-Med Trivia #3\\n\\nምግብና መጠጦች አንዳንድ መድሃኒቶች በደ...   \n",
       "\n",
       "                        Date  \\\n",
       "0                       Date   \n",
       "1  2023-02-10 12:23:06+00:00   \n",
       "2  2023-02-02 08:58:52+00:00   \n",
       "3  2023-02-01 08:59:37+00:00   \n",
       "4  2023-01-31 09:19:53+00:00   \n",
       "\n",
       "                                          Media Path  \n",
       "0                                         Media Path  \n",
       "1  c:\\Users\\Dagi\\Documents\\KAIM\\week-7\\Ethiopian-...  \n",
       "2  c:\\Users\\Dagi\\Documents\\KAIM\\week-7\\Ethiopian-...  \n",
       "3  c:\\Users\\Dagi\\Documents\\KAIM\\week-7\\Ethiopian-...  \n",
       "4  c:\\Users\\Dagi\\Documents\\KAIM\\week-7\\Ethiopian-...  "
      ]
     },
     "execution_count": 8,
     "metadata": {},
     "output_type": "execute_result"
    }
   ],
   "source": [
    "df.head()"
   ]
  },
  {
   "cell_type": "code",
   "execution_count": 9,
   "metadata": {},
   "outputs": [
    {
     "data": {
      "text/plain": [
       "(1679, 6)"
      ]
     },
     "execution_count": 9,
     "metadata": {},
     "output_type": "execute_result"
    }
   ],
   "source": [
    "df.shape"
   ]
  },
  {
   "cell_type": "code",
   "execution_count": 10,
   "metadata": {},
   "outputs": [
    {
     "data": {
      "text/html": [
       "<div>\n",
       "<style scoped>\n",
       "    .dataframe tbody tr th:only-of-type {\n",
       "        vertical-align: middle;\n",
       "    }\n",
       "\n",
       "    .dataframe tbody tr th {\n",
       "        vertical-align: top;\n",
       "    }\n",
       "\n",
       "    .dataframe thead th {\n",
       "        text-align: right;\n",
       "    }\n",
       "</style>\n",
       "<table border=\"1\" class=\"dataframe\">\n",
       "  <thead>\n",
       "    <tr style=\"text-align: right;\">\n",
       "      <th></th>\n",
       "      <th>Channel Title</th>\n",
       "      <th>Channel Username</th>\n",
       "      <th>ID</th>\n",
       "      <th>Message</th>\n",
       "      <th>Date</th>\n",
       "      <th>Media Path</th>\n",
       "    </tr>\n",
       "  </thead>\n",
       "  <tbody>\n",
       "    <tr>\n",
       "      <th>1674</th>\n",
       "      <td>የጤና ወግ - የጤና መረጃ</td>\n",
       "      <td>@yetenaweg</td>\n",
       "      <td>1246</td>\n",
       "      <td>NaN</td>\n",
       "      <td>2025-01-22 09:50:46+00:00</td>\n",
       "      <td>c:\\Users\\Dagi\\Documents\\KAIM\\week-7\\Ethiopian-...</td>\n",
       "    </tr>\n",
       "    <tr>\n",
       "      <th>1675</th>\n",
       "      <td>የጤና ወግ - የጤና መረጃ</td>\n",
       "      <td>@yetenaweg</td>\n",
       "      <td>1245</td>\n",
       "      <td>🎗 ጥር የማህፀን በር ጫፍ ካንሰር የግንዛቤ ማስጨበጫ ወር ነው! 💙✨\\n\\...</td>\n",
       "      <td>2025-01-22 09:50:46+00:00</td>\n",
       "      <td>c:\\Users\\Dagi\\Documents\\KAIM\\week-7\\Ethiopian-...</td>\n",
       "    </tr>\n",
       "    <tr>\n",
       "      <th>1676</th>\n",
       "      <td>የጤና ወግ - የጤና መረጃ</td>\n",
       "      <td>@yetenaweg</td>\n",
       "      <td>1244</td>\n",
       "      <td>NaN</td>\n",
       "      <td>2025-01-07 03:35:34+00:00</td>\n",
       "      <td>NaN</td>\n",
       "    </tr>\n",
       "    <tr>\n",
       "      <th>1677</th>\n",
       "      <td>የጤና ወግ - የጤና መረጃ</td>\n",
       "      <td>@yetenaweg</td>\n",
       "      <td>1243</td>\n",
       "      <td>🌍🤔 ርእደ መሬት ቢከሰት ምን ማድረግ እንዳለብዎት ያውቃሉ? \\n\\n⚠️ርእ...</td>\n",
       "      <td>2025-01-07 03:35:26+00:00</td>\n",
       "      <td>c:\\Users\\Dagi\\Documents\\KAIM\\week-7\\Ethiopian-...</td>\n",
       "    </tr>\n",
       "    <tr>\n",
       "      <th>1678</th>\n",
       "      <td>የጤና ወግ - የጤና መረጃ</td>\n",
       "      <td>@yetenaweg</td>\n",
       "      <td>1242</td>\n",
       "      <td>🎙✨ የጤና ወግ ቪዲዮ ፖድካስት ✨🎙\\n\\n🤝ከ EngenderHealth እና...</td>\n",
       "      <td>2024-12-16 07:08:46+00:00</td>\n",
       "      <td>c:\\Users\\Dagi\\Documents\\KAIM\\week-7\\Ethiopian-...</td>\n",
       "    </tr>\n",
       "  </tbody>\n",
       "</table>\n",
       "</div>"
      ],
      "text/plain": [
       "         Channel Title Channel Username    ID  \\\n",
       "1674  የጤና ወግ - የጤና መረጃ       @yetenaweg  1246   \n",
       "1675  የጤና ወግ - የጤና መረጃ       @yetenaweg  1245   \n",
       "1676  የጤና ወግ - የጤና መረጃ       @yetenaweg  1244   \n",
       "1677  የጤና ወግ - የጤና መረጃ       @yetenaweg  1243   \n",
       "1678  የጤና ወግ - የጤና መረጃ       @yetenaweg  1242   \n",
       "\n",
       "                                                Message  \\\n",
       "1674                                                NaN   \n",
       "1675  🎗 ጥር የማህፀን በር ጫፍ ካንሰር የግንዛቤ ማስጨበጫ ወር ነው! 💙✨\\n\\...   \n",
       "1676                                                NaN   \n",
       "1677  🌍🤔 ርእደ መሬት ቢከሰት ምን ማድረግ እንዳለብዎት ያውቃሉ? \\n\\n⚠️ርእ...   \n",
       "1678  🎙✨ የጤና ወግ ቪዲዮ ፖድካስት ✨🎙\\n\\n🤝ከ EngenderHealth እና...   \n",
       "\n",
       "                           Date  \\\n",
       "1674  2025-01-22 09:50:46+00:00   \n",
       "1675  2025-01-22 09:50:46+00:00   \n",
       "1676  2025-01-07 03:35:34+00:00   \n",
       "1677  2025-01-07 03:35:26+00:00   \n",
       "1678  2024-12-16 07:08:46+00:00   \n",
       "\n",
       "                                             Media Path  \n",
       "1674  c:\\Users\\Dagi\\Documents\\KAIM\\week-7\\Ethiopian-...  \n",
       "1675  c:\\Users\\Dagi\\Documents\\KAIM\\week-7\\Ethiopian-...  \n",
       "1676                                                NaN  \n",
       "1677  c:\\Users\\Dagi\\Documents\\KAIM\\week-7\\Ethiopian-...  \n",
       "1678  c:\\Users\\Dagi\\Documents\\KAIM\\week-7\\Ethiopian-...  "
      ]
     },
     "execution_count": 10,
     "metadata": {},
     "output_type": "execute_result"
    }
   ],
   "source": [
    "df.tail()"
   ]
  },
  {
   "cell_type": "markdown",
   "metadata": {},
   "source": [
    "### Handle duplicates"
   ]
  },
  {
   "cell_type": "code",
   "execution_count": 11,
   "metadata": {},
   "outputs": [
    {
     "name": "stderr",
     "output_type": "stream",
     "text": [
      "2025-01-30 12:13:21,494 - INFO - Checking for duplicates...\n",
      "2025-01-30 12:13:21,509 - INFO - Found 26 duplicate rows\n"
     ]
    }
   ],
   "source": [
    "# Check for duplicates\n",
    "duplicates = data_cleaning.check_duplicates(df)"
   ]
  },
  {
   "cell_type": "code",
   "execution_count": 12,
   "metadata": {},
   "outputs": [
    {
     "name": "stderr",
     "output_type": "stream",
     "text": [
      "2025-01-30 12:13:21,645 - INFO - Duplicates removed\n"
     ]
    }
   ],
   "source": [
    "# Handle duplicates\n",
    "cleaned_data = data_cleaning.handle_duplicates(df, duplicates)"
   ]
  },
  {
   "cell_type": "code",
   "execution_count": 13,
   "metadata": {},
   "outputs": [
    {
     "name": "stderr",
     "output_type": "stream",
     "text": [
      "2025-01-30 12:13:21,799 - INFO - Checking for duplicates...\n",
      "2025-01-30 12:13:21,818 - INFO - No duplicates found\n"
     ]
    }
   ],
   "source": [
    "# Check for duplicates\n",
    "duplicates = data_cleaning.check_duplicates(cleaned_data)"
   ]
  },
  {
   "cell_type": "markdown",
   "metadata": {},
   "source": [
    "○\tHandling Missing Values"
   ]
  },
  {
   "cell_type": "code",
   "execution_count": 14,
   "metadata": {},
   "outputs": [
    {
     "name": "stderr",
     "output_type": "stream",
     "text": [
      "2025-01-30 12:13:22,022 - INFO - Checking for missing values...\n",
      "2025-01-30 12:13:22,027 - INFO - Found 113 missing values\n"
     ]
    },
    {
     "name": "stdout",
     "output_type": "stream",
     "text": [
      "Channel Title        0\n",
      "Channel Username     0\n",
      "ID                   0\n",
      "Message             85\n",
      "Date                 0\n",
      "Media Path          28\n",
      "dtype: int64\n"
     ]
    }
   ],
   "source": [
    "# Check for missing values\n",
    "missing_values = data_cleaning.check_missing_values(cleaned_data)\n",
    "print(missing_values)\n"
   ]
  },
  {
   "cell_type": "code",
   "execution_count": 16,
   "metadata": {},
   "outputs": [
    {
     "name": "stderr",
     "output_type": "stream",
     "text": [
      "2025-01-30 12:15:13,298 - INFO - Handling missing values by dropping rows with missing values...\n",
      "2025-01-30 12:15:13,304 - INFO - Dropped 0 rows with missing values\n"
     ]
    }
   ],
   "source": [
    "cleaned_data = data_cleaning.handle_missing_values(cleaned_data)"
   ]
  },
  {
   "cell_type": "code",
   "execution_count": 17,
   "metadata": {},
   "outputs": [
    {
     "name": "stderr",
     "output_type": "stream",
     "text": [
      "2025-01-30 12:15:16,288 - INFO - Checking for missing values...\n",
      "2025-01-30 12:15:16,294 - INFO - No missing values found\n"
     ]
    },
    {
     "name": "stdout",
     "output_type": "stream",
     "text": [
      "Channel Title       0\n",
      "Channel Username    0\n",
      "ID                  0\n",
      "Message             0\n",
      "Date                0\n",
      "Media Path          0\n",
      "dtype: int64\n"
     ]
    }
   ],
   "source": [
    "# Check for missing values\n",
    "missing_values = data_cleaning.check_missing_values(cleaned_data)\n",
    "print(missing_values)"
   ]
  }
 ],
 "metadata": {
  "kernelspec": {
   "display_name": "week-7",
   "language": "python",
   "name": "python3"
  },
  "language_info": {
   "codemirror_mode": {
    "name": "ipython",
    "version": 3
   },
   "file_extension": ".py",
   "mimetype": "text/x-python",
   "name": "python",
   "nbconvert_exporter": "python",
   "pygments_lexer": "ipython3",
   "version": "3.12.5"
  }
 },
 "nbformat": 4,
 "nbformat_minor": 2
}
